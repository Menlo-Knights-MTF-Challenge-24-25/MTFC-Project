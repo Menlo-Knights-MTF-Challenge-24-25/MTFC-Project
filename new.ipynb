{
 "cells": [
  {
   "cell_type": "code",
   "execution_count": 223,
   "metadata": {},
   "outputs": [],
   "source": [
    "import pandas as pd\n",
    "import numpy as np\n",
    "from datetime import datetime\n",
    "from sklearn.linear_model import LinearRegression\n",
    "import matplotlib.pyplot as plt"
   ]
  },
  {
   "cell_type": "code",
   "execution_count": 224,
   "metadata": {},
   "outputs": [
    {
     "name": "stdout",
     "output_type": "stream",
     "text": [
      "Initial dataset size: (324, 11)\n"
     ]
    }
   ],
   "source": [
    "# Load the data\n",
    "file_path = \"accident_data.csv\"  # Update this with the actual file path\n",
    "df = pd.read_csv(file_path)\n",
    "print(f\"Initial dataset size: {df.shape}\")"
   ]
  },
  {
   "cell_type": "code",
   "execution_count": 225,
   "metadata": {},
   "outputs": [
    {
     "name": "stdout",
     "output_type": "stream",
     "text": [
      "Initial dataset size: (318, 12)\n"
     ]
    }
   ],
   "source": [
    "\n",
    "# Convert \"Incident Date\" to datetime and calculate days after August 1, 2022\n",
    "reference_date = datetime(2022, 8, 1)\n",
    "df[\"Incident Date\"] = pd.to_datetime(df[\"Incident Date\"], format=\"%m/%d/%Y\", errors='coerce')\n",
    "df = df[df[\"Incident Date\"] >= reference_date]\n",
    "df[\"Days After Reference\"] = (df[\"Incident Date\"] - reference_date).dt.days\n",
    "\n",
    "print(f\"Initial dataset size: {df.shape}\")"
   ]
  },
  {
   "cell_type": "code",
   "execution_count": 226,
   "metadata": {},
   "outputs": [
    {
     "name": "stdout",
     "output_type": "stream",
     "text": [
      "Initial dataset size: (295, 12)\n"
     ]
    }
   ],
   "source": [
    "\n",
    "# Filter rows where \"Is NHTSA Reportable In-Transport\" is TRUE\n",
    "\n",
    "df[\"Is NHTSA Reportable In-Transport\"] = df[\"Is NHTSA Reportable In-Transport\"].astype(str).str.strip().str.title()\n",
    "df = df[df[\"Is NHTSA Reportable In-Transport\"] == \"True\"]\n",
    "\n",
    "print(f\"Initial dataset size: {df.shape}\")"
   ]
  },
  {
   "cell_type": "code",
   "execution_count": 227,
   "metadata": {},
   "outputs": [
    {
     "name": "stdout",
     "output_type": "stream",
     "text": [
      "Initial dataset size: (295, 13)\n"
     ]
    }
   ],
   "source": [
    "# Compute Severity Score\n",
    "df[\"Severity Score\"] = 0\n",
    "\n",
    "df[\"Is Airbag Deployment\"] = df[\"Is Airbag Deployment\"].astype(str).str.strip().str.title()\n",
    "df[\"Is Any-Injury-Reported\"] = df[\"Is Any-Injury-Reported\"].astype(str).str.strip().str.title()\n",
    "\n",
    "df.loc[df[\"Is Airbag Deployment\"] == \"True\", \"Severity Score\"] += 5\n",
    "df.loc[df[\"Is Any-Injury-Reported\"] == \"True\", \"Severity Score\"] += 8\n",
    "\n",
    "print(f\"Initial dataset size: {df.shape}\")"
   ]
  },
  {
   "cell_type": "code",
   "execution_count": 228,
   "metadata": {},
   "outputs": [
    {
     "name": "stdout",
     "output_type": "stream",
     "text": [
      "Initial dataset size: (295, 13)\n"
     ]
    }
   ],
   "source": [
    "\n",
    "# Prepare data for regression\n",
    "X = df[[\"Days After Reference\"]].values\n",
    "y = df[\"Severity Score\"].values\n",
    "\n",
    "print(f\"Initial dataset size: {df.shape}\")"
   ]
  },
  {
   "cell_type": "code",
   "execution_count": 229,
   "metadata": {},
   "outputs": [
    {
     "name": "stdout",
     "output_type": "stream",
     "text": [
      "Initial dataset size: (295, 13)\n"
     ]
    }
   ],
   "source": [
    "\n",
    "# Perform linear regression\n",
    "model = LinearRegression()\n",
    "model.fit(X, y)\n",
    "\n",
    "print(f\"Initial dataset size: {df.shape}\")"
   ]
  },
  {
   "cell_type": "code",
   "execution_count": 230,
   "metadata": {},
   "outputs": [
    {
     "name": "stdout",
     "output_type": "stream",
     "text": [
      "Intercept: 1.1357743982675679\n",
      "Slope: -0.0002823300495181964\n",
      "Initial dataset size: (295, 13)\n"
     ]
    }
   ],
   "source": [
    "\n",
    "# Print regression coefficients\n",
    "print(f\"Intercept: {model.intercept_}\")\n",
    "print(f\"Slope: {model.coef_[0]}\")\n",
    "\n",
    "print(f\"Initial dataset size: {df.shape}\")"
   ]
  },
  {
   "cell_type": "code",
   "execution_count": 231,
   "metadata": {},
   "outputs": [
    {
     "data": {
      "image/png": "[encoded data removed]",
      "text/plain": [
       "<Figure size 640x480 with 1 Axes>"
      ]
     },
     "metadata": {},
     "output_type": "display_data"
    },
    {
     "name": "stdout",
     "output_type": "stream",
     "text": [
      "Initial dataset size: (295, 13)\n"
     ]
    }
   ],
   "source": [
    "\n",
    "# Plot the results\n",
    "plt.scatter(X, y, color='blue', label='Data')\n",
    "plt.plot(X, model.predict(X), color='red', linewidth=2, label='Regression Line')\n",
    "plt.xlabel(\"Days After August 1, 2022\")\n",
    "plt.ylabel(\"Severity Score\")\n",
    "plt.title(\"Linear Regression of Severity Score over Time\")\n",
    "plt.legend()\n",
    "plt.show()\n",
    "\n",
    "print(f\"Initial dataset size: {df.shape}\")"
   ]
  },
  {
   "cell_type": "code",
   "execution_count": 232,
   "metadata": {},
   "outputs": [
    {
     "name": "stdout",
     "output_type": "stream",
     "text": [
      "Initial dataset size: (324, 11)\n",
      "  SGO Report ID  Year Month       Location  Is NHTSA Reportable In-Transport  \\\n",
      "0    30270-8887      202409        PHOENIX                             False   \n",
      "1    30270-8886      202409    LOS_ANGELES                              True   \n",
      "2    30270-8885      202409  SAN_FRANCISCO                              True   \n",
      "3    30270-8884      202409  SAN_FRANCISCO                              True   \n",
      "4    30270-8883      202409         AUSTIN                              True   \n",
      "\n",
      "   Is NHTSA Reportable In-Transport Delta-V Less than 1 MPH  \\\n",
      "0                                              False          \n",
      "1                                              False          \n",
      "2                                               True          \n",
      "3                                               True          \n",
      "4                                               True          \n",
      "\n",
      "   Is Police-Reported  Is Any-Injury-Reported  Is Airbag Deployment  \\\n",
      "0               False                   False                 False   \n",
      "1               False                   False                 False   \n",
      "2               False                   False                 False   \n",
      "3                True                   False                 False   \n",
      "4               False                   False                 False   \n",
      "\n",
      "  Incident Date               Location Address / Description  Zip Code  \n",
      "0    09/28/2024       North 6th Avenue near Roosevelt Street   85003.0  \n",
      "1    09/27/2024  San Vicente Boulevard at Wilshire Boulevard   90211.0  \n",
      "2    09/26/2024             20th Street near Valencia Street   94110.0  \n",
      "3     9/26/2024                Potrero Avenue at 23rd Street   94110.0  \n",
      "4    09/25/2024           Davis Street near Red River Street   78701.0  \n"
     ]
    }
   ],
   "source": [
    "file_path = \"accident_data.csv\"  # Update this with the actual file path\n",
    "df = pd.read_csv(file_path)\n",
    "print(f\"Initial dataset size: {df.shape}\")\n",
    "print(df.head())\n"
   ]
  },
  {
   "cell_type": "code",
   "execution_count": 233,
   "metadata": {},
   "outputs": [],
   "source": [
    "\n",
    "\n",
    "# Convert \"Incident Date\" to datetime and calculate days after August 1, 2022\n",
    "reference_date = datetime(2022, 8, 1)\n",
    "df[\"Incident Date\"] = pd.to_datetime(df[\"Incident Date\"], format=\"%m/%d/%Y\", errors='coerce')\n",
    "df = df[df[\"Incident Date\"] >= reference_date]\n",
    "df[\"Days After Reference\"] = (df[\"Incident Date\"] - reference_date).dt.days\n",
    "\n",
    "# Filter rows where \"Is NHTSA Reportable In-Transport\" is TRUE\n",
    "df = df[df[\"Is NHTSA Reportable In-Transport\"] == \"TRUE\"]"
   ]
  },
  {
   "cell_type": "code",
   "execution_count": 234,
   "metadata": {},
   "outputs": [],
   "source": [
    "import pandas as pd\n",
    "import numpy as np\n",
    "from sklearn.linear_model import LinearRegression"
   ]
  },
  {
   "cell_type": "code",
   "execution_count": 235,
   "metadata": {},
   "outputs": [
    {
     "name": "stdout",
     "output_type": "stream",
     "text": [
      "Linear Regression Results:\n",
      "  Intercept (probability at month=0 → August 2023): 0.00022701\n",
      "  Slope (change in probability per 1-month increase): -0.00000778\n",
      "\n",
      "Summary of each month:\n",
      "    Year Month  Months_After_Aug2023  Accident_Count  Monthly_Trips  \\\n",
      "15      202309                     1            11.0   39007.347264   \n",
      "16      202310                     2            12.0   55434.865638   \n",
      "17      202311                     3             5.0   57689.263938   \n",
      "18      202312                     4            16.0   71223.078052   \n",
      "19      202401                     5            14.0   75784.596859   \n",
      "20      202402                     6            11.0   77857.227113   \n",
      "21      202403                     7            20.0   82271.196321   \n",
      "22      202404                     8            11.0   93272.708436   \n",
      "23      202405                     9            30.0  140915.510917   \n",
      "24      202406                    10            30.0  191462.778002   \n",
      "25      202407                    11            32.0  246028.642732   \n",
      "26      202408                    12            38.0  306350.779900   \n",
      "27      202409                    13            44.0  359040.361519   \n",
      "\n",
      "    Probability_of_Accident  Predicted_Probability  \n",
      "15                 0.000282               0.000219  \n",
      "16                 0.000216               0.000211  \n",
      "17                 0.000087               0.000204  \n",
      "18                 0.000225               0.000196  \n",
      "19                 0.000185               0.000188  \n",
      "20                 0.000141               0.000180  \n",
      "21                 0.000243               0.000173  \n",
      "22                 0.000118               0.000165  \n",
      "23                 0.000213               0.000157  \n",
      "24                 0.000157               0.000149  \n",
      "25                 0.000130               0.000141  \n",
      "26                 0.000124               0.000134  \n",
      "27                 0.000123               0.000126  \n"
     ]
    }
   ],
   "source": [
    "# -----------------------------------------------------------------\n",
    "# 1) READ IN THE TWO CSV FILES\n",
    "# -----------------------------------------------------------------\n",
    "accidents_df = pd.read_csv(\"accident_data.csv\")\n",
    "trips_df = pd.read_csv(\"data/trips.csv\")\n",
    "\n",
    "# -----------------------------------------------------------------\n",
    "# 2) HELPER FUNCTION TO CONVERT YYYYMM → MONTHS AFTER AUG 2023\n",
    "# -----------------------------------------------------------------\n",
    "def months_after_aug2023(yyyymm):\n",
    "    \"\"\"\n",
    "    Given an integer or string of the form YYYYMM, \n",
    "    return how many months after 2023-08 it is.\n",
    "    For example:\n",
    "        202308 -> 0\n",
    "        202309 -> 1\n",
    "        202408 -> 12\n",
    "        202412 -> 16\n",
    "    \"\"\"\n",
    "    # Convert to string in case it's read as integer\n",
    "    yyyymm_str = str(yyyymm)\n",
    "    year = int(yyyymm_str[:4])\n",
    "    month = int(yyyymm_str[4:])\n",
    "    \n",
    "    # Calculate months relative to August 2023 → year=2023, month=8\n",
    "    return (year - 2023) * 12 + (month - 8)\n",
    "\n",
    "# -----------------------------------------------------------------\n",
    "# 3) AGGREGATE ACCIDENTS PER MONTH\n",
    "#    Count the number of rows in accident_data.csv for each YYYYMM\n",
    "# -----------------------------------------------------------------\n",
    "accidents_per_month = (\n",
    "    accidents_df\n",
    "    .groupby(\"Year Month\")  # group by the YYYYMM column\n",
    "    .size()                 # count how many rows in each group\n",
    "    .reset_index(name=\"Accident_Count\")\n",
    ")   \n",
    "\n",
    "# -----------------------------------------------------------------\n",
    "# 4) AGGREGATE TOTAL WEEKLY TRIPS PER MONTH\n",
    "#    Sum the \"Weekly Trips\" column for each YYYYMM in trips.csv\n",
    "# -----------------------------------------------------------------\n",
    "trips_df[\"Weekly Trips\"] = trips_df[\"Weekly Trips\"] * 4.3452381\n",
    "trips_per_month = (\n",
    "    trips_df\n",
    "    .groupby(\"Year Month\")      # group by the YYYYMM column\n",
    "    [\"Weekly Trips\"]\n",
    "    .sum()                      # sum up weekly trips for each month\n",
    "    .reset_index(name=\"Monthly_Trips\")\n",
    ")\n",
    "\n",
    "# -----------------------------------------------------------------\n",
    "# 5) MERGE ACCIDENTS + TRIPS BY YYYYMM, RESTRICT TO AUG 2023→DEC 2024\n",
    "# -----------------------------------------------------------------\n",
    "# Combine accidents_per_month with trips_per_month\n",
    "merged = pd.merge(accidents_per_month, \n",
    "                  trips_per_month, \n",
    "                  on=\"Year Month\", \n",
    "                  how=\"outer\")  # outer merge in case some months have 0 accidents\n",
    "\n",
    "# We only care about months from 202308 (Aug 2023) through 202412 (Dec 2024)\n",
    "min_yyyymm = 202309\n",
    "max_yyyymm = 202409\n",
    "\n",
    "# Convert \"Year Month\" to an integer and filter\n",
    "merged[\"Year Month\"] = merged[\"Year Month\"].astype(int)\n",
    "merged = merged[(merged[\"Year Month\"] >= min_yyyymm) & \n",
    "                (merged[\"Year Month\"] <= max_yyyymm)]\n",
    "\n",
    "# Fill any missing accident counts or trip counts with 0 if needed\n",
    "merged[\"Accident_Count\"] = merged[\"Accident_Count\"].fillna(0)\n",
    "merged[\"Monthly_Trips\"] = merged[\"Monthly_Trips\"].fillna(0)\n",
    "\n",
    "# Compute Probability of an accident = (# accidents) / (# rides)\n",
    "merged[\"Probability_of_Accident\"] = merged.apply(\n",
    "    lambda row: row[\"Accident_Count\"] / row[\"Monthly_Trips\"] \n",
    "    if row[\"Monthly_Trips\"] > 0 \n",
    "    else 0, \n",
    "    axis=1\n",
    ")\n",
    "\n",
    "# -----------------------------------------------------------------\n",
    "# 6) CREATE THE (X, y) FOR THE REGRESSION\n",
    "#    X = months after Aug 2023, y = probability of an accident\n",
    "# -----------------------------------------------------------------\n",
    "merged[\"Months_After_Aug2023\"] = merged[\"Year Month\"].apply(months_after_aug2023)\n",
    "\n",
    "# Sort by the numeric month so we have them in order\n",
    "merged = merged.sort_values(\"Months_After_Aug2023\")\n",
    "\n",
    "X = merged[\"Months_After_Aug2023\"].values.reshape(-1, 1)  # scikit-learn wants a 2D array\n",
    "y = merged[\"Probability_of_Accident\"].values\n",
    "\n",
    "# -----------------------------------------------------------------\n",
    "# 7) FIT A LINEAR REGRESSION MODEL\n",
    "# -----------------------------------------------------------------\n",
    "model = LinearRegression()\n",
    "model.fit(X, y)\n",
    "\n",
    "# Extract slope (coefficient) and intercept\n",
    "slope = model.coef_[0]\n",
    "intercept = model.intercept_\n",
    "\n",
    "print(\"Linear Regression Results:\")\n",
    "print(f\"  Intercept (probability at month=0 → August 2023): {intercept:.8f}\")\n",
    "print(f\"  Slope (change in probability per 1-month increase): {slope:.8f}\")\n",
    "\n",
    "# Optionally, you can make predictions for each month\n",
    "predictions = model.predict(X)\n",
    "\n",
    "# -----------------------------------------------------------------\n",
    "# 8) REPORT OR SAVE RESULTS\n",
    "# -----------------------------------------------------------------\n",
    "results_df = merged.copy()\n",
    "results_df[\"Predicted_Probability\"] = predictions\n",
    "print(\"\\nSummary of each month:\")\n",
    "print(results_df[[\n",
    "    \"Year Month\", \n",
    "    \"Months_After_Aug2023\", \n",
    "    \"Accident_Count\", \n",
    "    \"Monthly_Trips\", \n",
    "    \"Probability_of_Accident\", \n",
    "    \"Predicted_Probability\"\n",
    "]])"
   ]
  },
  {
   "cell_type": "code",
   "execution_count": 236,
   "metadata": {},
   "outputs": [],
   "source": [
    "from sklearn.metrics import r2_score"
   ]
  },
  {
   "cell_type": "code",
   "execution_count": 237,
   "metadata": {},
   "outputs": [
    {
     "name": "stdout",
     "output_type": "stream",
     "text": [
      "Regression Coefficients:\n",
      "  Intercept (probability at x=0): 0.00022701\n",
      "  Slope (change in probability per 1-month): -0.00000778\n",
      "  R-squared: 0.26475982\n"
     ]
    },
    {
     "data": {
      "image/png": "[encoded data removed]",
      "text/plain": [
       "<Figure size 640x480 with 1 Axes>"
      ]
     },
     "metadata": {},
     "output_type": "display_data"
    }
   ],
   "source": [
    "# Extract features (X) and target (y)\n",
    "X = merged[\"Months_After_Aug2023\"].values.reshape(-1, 1)\n",
    "y = merged[\"Probability_of_Accident\"].values\n",
    "\n",
    "# -----------------------------------------------------------------\n",
    "# 2) Fit linear regression\n",
    "# -----------------------------------------------------------------\n",
    "model = LinearRegression()\n",
    "model.fit(X, y)\n",
    "\n",
    "# Make predictions\n",
    "predictions = model.predict(X)\n",
    "\n",
    "# Compute R^2\n",
    "r2 = r2_score(y, predictions)\n",
    "\n",
    "# -----------------------------------------------------------------\n",
    "# 3) Print regression coefficients\n",
    "# -----------------------------------------------------------------\n",
    "print(\"Regression Coefficients:\")\n",
    "print(f\"  Intercept (probability at x=0): {model.intercept_:.8f}\")\n",
    "print(f\"  Slope (change in probability per 1-month): {model.coef_[0]:.8f}\")\n",
    "print(f\"  R-squared: {r2:.8f}\")\n",
    "\n",
    "# -----------------------------------------------------------------\n",
    "# 4) Create a chart\n",
    "# -----------------------------------------------------------------\n",
    "plt.scatter(X, y, label='Actual Probability')\n",
    "plt.plot(X, predictions, label='Regression Line')\n",
    "\n",
    "plt.xlabel('Months After August 2023')\n",
    "plt.ylabel('Probability of Accident')\n",
    "plt.title('Linear Regression: Probability of Accident Over Time')\n",
    "plt.legend()\n",
    "plt.show()"
   ]
  },
  {
   "cell_type": "markdown",
   "metadata": {},
   "source": [
    "test\n",
    "\n",
    "$a^2+b^2=c^2$"
   ]
  }
 ],
 "metadata": {
  "kernelspec": {
   "display_name": ".venv",
   "language": "python",
   "name": "python3"
  },
  "language_info": {
   "codemirror_mode": {
    "name": "ipython",
    "version": 3
   },
   "file_extension": ".py",
   "mimetype": "text/x-python",
   "name": "python",
   "nbconvert_exporter": "python",
   "pygments_lexer": "ipython3",
   "version": "3.11.9"
  }
 },
 "nbformat": 4,
 "nbformat_minor": 2
}
