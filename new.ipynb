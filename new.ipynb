{
 "cells": [
  {
   "cell_type": "code",
   "execution_count": 146,
   "metadata": {},
   "outputs": [],
   "source": [
    "import pandas as pd\n",
    "import numpy as np\n",
    "from datetime import datetime\n",
    "from sklearn.linear_model import LinearRegression\n",
    "import matplotlib.pyplot as plt"
   ]
  },
  {
   "cell_type": "code",
   "execution_count": 147,
   "metadata": {},
   "outputs": [
    {
     "name": "stdout",
     "output_type": "stream",
     "text": [
      "Initial dataset size: (324, 11)\n"
     ]
    }
   ],
   "source": [
    "# Load the data\n",
    "file_path = \"accident_data.csv\"  # Update this with the actual file path\n",
    "df = pd.read_csv(file_path)\n",
    "print(f\"Initial dataset size: {df.shape}\")"
   ]
  },
  {
   "cell_type": "code",
   "execution_count": 148,
   "metadata": {},
   "outputs": [
    {
     "name": "stdout",
     "output_type": "stream",
     "text": [
      "Initial dataset size: (318, 12)\n"
     ]
    }
   ],
   "source": [
    "\n",
    "# Convert \"Incident Date\" to datetime and calculate days after August 1, 2022\n",
    "reference_date = datetime(2022, 8, 1)\n",
    "df[\"Incident Date\"] = pd.to_datetime(df[\"Incident Date\"], format=\"%m/%d/%Y\", errors='coerce')\n",
    "df = df[df[\"Incident Date\"] >= reference_date]\n",
    "df[\"Days After Reference\"] = (df[\"Incident Date\"] - reference_date).dt.days\n",
    "\n",
    "print(f\"Initial dataset size: {df.shape}\")"
   ]
  },
  {
   "cell_type": "code",
   "execution_count": 9,
   "metadata": {},
   "outputs": [
    {
     "name": "stdout",
     "output_type": "stream",
     "text": [
      "Initial dataset size: (295, 12)\n"
     ]
    }
   ],
   "source": [
    "\n",
    "# Filter rows where \"Is NHTSA Reportable In-Transport\" is TRUE\n",
    "\n",
    "df[\"Is NHTSA Reportable In-Transport\"] = df[\"Is NHTSA Reportable In-Transport\"].astype(str).str.strip().str.title()\n",
    "df = df[df[\"Is NHTSA Reportable In-Transport\"] == \"True\"]\n",
    "\n",
    "print(f\"Initial dataset size: {df.shape}\")"
   ]
  },
  {
   "cell_type": "code",
   "execution_count": 150,
   "metadata": {},
   "outputs": [
    {
     "name": "stdout",
     "output_type": "stream",
     "text": [
      "Initial dataset size: (295, 13)\n"
     ]
    }
   ],
   "source": [
    "# Compute Severity Score\n",
    "df[\"Severity Score\"] = 0\n",
    "\n",
    "df[\"Is Airbag Deployment\"] = df[\"Is Airbag Deployment\"].astype(str).str.strip().str.title()\n",
    "df[\"Is Any-Injury-Reported\"] = df[\"Is Any-Injury-Reported\"].astype(str).str.strip().str.title()\n",
    "\n",
    "df.loc[df[\"Is Airbag Deployment\"] == \"True\", \"Severity Score\"] += 5\n",
    "df.loc[df[\"Is Any-Injury-Reported\"] == \"True\", \"Severity Score\"] += 8\n",
    "\n",
    "print(f\"Initial dataset size: {df.shape}\")"
   ]
  },
  {
   "cell_type": "code",
   "execution_count": 151,
   "metadata": {},
   "outputs": [
    {
     "name": "stdout",
     "output_type": "stream",
     "text": [
      "Initial dataset size: (295, 13)\n"
     ]
    }
   ],
   "source": [
    "\n",
    "# Prepare data for regression\n",
    "X = df[[\"Days After Reference\"]].values\n",
    "y = df[\"Severity Score\"].values\n",
    "\n",
    "print(f\"Initial dataset size: {df.shape}\")"
   ]
  },
  {
   "cell_type": "code",
   "execution_count": 152,
   "metadata": {},
   "outputs": [
    {
     "name": "stdout",
     "output_type": "stream",
     "text": [
      "Initial dataset size: (295, 13)\n"
     ]
    }
   ],
   "source": [
    "\n",
    "# Perform linear regression\n",
    "model = LinearRegression()\n",
    "model.fit(X, y)\n",
    "\n",
    "print(f\"Initial dataset size: {df.shape}\")"
   ]
  },
  {
   "cell_type": "code",
   "execution_count": 153,
   "metadata": {},
   "outputs": [
    {
     "name": "stdout",
     "output_type": "stream",
     "text": [
      "Intercept: 1.1357743982675679\n",
      "Slope: -0.0002823300495181964\n",
      "Initial dataset size: (295, 13)\n"
     ]
    }
   ],
   "source": [
    "\n",
    "# Print regression coefficients\n",
    "print(f\"Intercept: {model.intercept_}\")\n",
    "print(f\"Slope: {model.coef_[0]}\")\n",
    "\n",
    "print(f\"Initial dataset size: {df.shape}\")"
   ]
  },
  {
   "cell_type": "code",
   "execution_count": 154,
   "metadata": {},
   "outputs": [
    {
     "data": {
      "image/png": "[encoded data removed]",
      "text/plain": [
       "<Figure size 640x480 with 1 Axes>"
      ]
     },
     "metadata": {},
     "output_type": "display_data"
    },
    {
     "name": "stdout",
     "output_type": "stream",
     "text": [
      "Initial dataset size: (295, 13)\n"
     ]
    }
   ],
   "source": [
    "\n",
    "# Plot the results\n",
    "plt.scatter(X, y, color='blue', label='Data')\n",
    "plt.plot(X, model.predict(X), color='red', linewidth=2, label='Regression Line')\n",
    "plt.xlabel(\"Days After August 1, 2022\")\n",
    "plt.ylabel(\"Severity Score\")\n",
    "plt.title(\"Linear Regression of Severity Score over Time\")\n",
    "plt.legend()\n",
    "plt.show()\n",
    "\n",
    "print(f\"Initial dataset size: {df.shape}\")"
   ]
  },
  {
   "cell_type": "code",
   "execution_count": 155,
   "metadata": {},
   "outputs": [
    {
     "name": "stdout",
     "output_type": "stream",
     "text": [
      "Initial dataset size: (324, 11)\n",
      "  SGO Report ID  Year Month       Location  Is NHTSA Reportable In-Transport  \\\n",
      "0    30270-8887      202409        PHOENIX                             False   \n",
      "1    30270-8886      202409    LOS_ANGELES                              True   \n",
      "2    30270-8885      202409  SAN_FRANCISCO                              True   \n",
      "3    30270-8884      202409  SAN_FRANCISCO                              True   \n",
      "4    30270-8883      202409         AUSTIN                              True   \n",
      "\n",
      "   Is NHTSA Reportable In-Transport Delta-V Less than 1 MPH  \\\n",
      "0                                              False          \n",
      "1                                              False          \n",
      "2                                               True          \n",
      "3                                               True          \n",
      "4                                               True          \n",
      "\n",
      "   Is Police-Reported  Is Any-Injury-Reported  Is Airbag Deployment  \\\n",
      "0               False                   False                 False   \n",
      "1               False                   False                 False   \n",
      "2               False                   False                 False   \n",
      "3                True                   False                 False   \n",
      "4               False                   False                 False   \n",
      "\n",
      "  Incident Date               Location Address / Description  Zip Code  \n",
      "0    09/28/2024       North 6th Avenue near Roosevelt Street   85003.0  \n",
      "1    09/27/2024  San Vicente Boulevard at Wilshire Boulevard   90211.0  \n",
      "2    09/26/2024             20th Street near Valencia Street   94110.0  \n",
      "3     9/26/2024                Potrero Avenue at 23rd Street   94110.0  \n",
      "4    09/25/2024           Davis Street near Red River Street   78701.0  \n"
     ]
    }
   ],
   "source": [
    "file_path = \"accident_data.csv\"  # Update this with the actual file path\n",
    "df = pd.read_csv(file_path)\n",
    "print(f\"Initial dataset size: {df.shape}\")\n",
    "print(df.head())\n"
   ]
  },
  {
   "cell_type": "code",
   "execution_count": 156,
   "metadata": {},
   "outputs": [],
   "source": [
    "\n",
    "\n",
    "# Convert \"Incident Date\" to datetime and calculate days after August 1, 2022\n",
    "reference_date = datetime(2022, 8, 1)\n",
    "df[\"Incident Date\"] = pd.to_datetime(df[\"Incident Date\"], format=\"%m/%d/%Y\", errors='coerce')\n",
    "df = df[df[\"Incident Date\"] >= reference_date]\n",
    "df[\"Days After Reference\"] = (df[\"Incident Date\"] - reference_date).dt.days\n",
    "\n",
    "# Debug: Check if any dates failed to convert (resulting in NaT).\n",
    "if df['Incident Date'].isnull().any():\n",
    "    print(\"Warning: Some dates could not be converted. Here are the rows with NaT values:\")\n",
    "    print(df[df['Incident Date'].isnull()])\n",
    "\n",
    "# Drop rows where the date conversion failed (if any).\n",
    "df = df.dropna(subset=['Incident Date'])\n",
    "\n",
    "# Ensure the DataFrame is not empty after dropping bad rows.\n",
    "if df.empty:\n",
    "    raise ValueError(\"No valid 'Incident Date' values found after conversion.\")\n",
    "\n",
    "# Sort the DataFrame by 'Incident Date'.\n",
    "df.sort_values(by='Incident Date', inplace=True)\n",
    "\n",
    "# Debug: Print the first and last dates.\n",
    "first_date = df['Incident Date'].iloc[0]\n",
    "last_date = df['Incident Date'].iloc[-1]\n",
    "print(\"First date:\", first_date)\n",
    "print(\"Last date:\", last_date)\n",
    "\n",
    "# Calculate the observation period in days.\n",
    "observation_period = (last_date - first_date).days\n",
    "print(\"Observation period (days):\", observation_period)\n",
    "\n",
    "# Check if the observation period is zero.\n",
    "if observation_period == 0:\n",
    "    raise ValueError(\"Observation period is zero. Check your accident date data.\")\n",
    "\n",
    "# Estimate the accident rate (lambda) as the number of accidents per day.\n",
    "lambda_estimated = len(df) / observation_period\n",
    "print(f\"Estimated accident rate (lambda): {lambda_estimated:.3f} accidents per day\")\n",
    "\n",
    "# Define a future time interval (in days) for which we want to compute probabilities.\n",
    "t_future = 1 # e.g., next 1 day\n",
    "lambda_future = lambda_estimated * t_future\n",
    "print(f\"Lambda for future interval (t={t_future} day): {lambda_future:.3f}\")\n",
    "\n",
    "# Compute the probability of observing k accidents in the future time interval.\n",
    "k_values = np.arange(0, 11)  # For k = 0 to 10 accidents\n",
    "pmf_values = poisson.pmf(k_values, lambda_future)\n",
    "\n",
    "# Debug: Print computed k_values and pmf_values.\n",
    "print(\"k values:\", k_values)\n",
    "print(\"PMF values:\", pmf_values)\n",
    "\n",
    "# Plot the Poisson PMF using a bar chart for clarity.\n",
    "plt.figure(figsize=(8, 5))\n",
    "plt.bar(k_values, pmf_values, color='skyblue', edgecolor='black')\n",
    "plt.xlabel(\"Number of Accidents in Next Day\")\n",
    "plt.ylabel(\"Probability\")\n",
    "plt.title(\"Poisson Process: Probability of Car Accidents\")\n",
    "plt.grid(axis='y')\n",
    "plt.show()\n"
   ]
  }
 ],
 "metadata": {
  "kernelspec": {
   "display_name": ".venv",
   "language": "python",
   "name": "python3"
  },
  "language_info": {
   "codemirror_mode": {
    "name": "ipython",
    "version": 3
   },
   "file_extension": ".py",
   "mimetype": "text/x-python",
   "name": "python",
   "nbconvert_exporter": "python",
   "pygments_lexer": "ipython3",
   "version": "3.11.9"
  }
 },
 "nbformat": 4,
 "nbformat_minor": 2
}
